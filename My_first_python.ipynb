{
  "nbformat": 4,
  "nbformat_minor": 0,
  "metadata": {
    "colab": {
      "provenance": [],
      "toc_visible": true,
      "authorship_tag": "ABX9TyNsFjFQ8d8xF09PapPTVdZ6",
      "include_colab_link": true
    },
    "kernelspec": {
      "name": "python3",
      "display_name": "Python 3"
    },
    "language_info": {
      "name": "python"
    }
  },
  "cells": [
    {
      "cell_type": "markdown",
      "metadata": {
        "id": "view-in-github",
        "colab_type": "text"
      },
      "source": [
        "<a href=\"https://colab.research.google.com/github/First-555/dataviz2025/blob/main/My_first_python.ipynb\" target=\"_parent\"><img src=\"https://colab.research.google.com/assets/colab-badge.svg\" alt=\"Open In Colab\"/></a>"
      ]
    },
    {
      "cell_type": "markdown",
      "source": [
        "#Intro"
      ],
      "metadata": {
        "id": "0EbzMSxkJb5i"
      }
    },
    {
      "cell_type": "markdown",
      "source": [
        "##Name"
      ],
      "metadata": {
        "id": "ukt7VfeiJwaH"
      }
    },
    {
      "cell_type": "code",
      "source": [
        "print(\"Setthawut\")"
      ],
      "metadata": {
        "colab": {
          "base_uri": "https://localhost:8080/"
        },
        "id": "QaqNkkRELgSO",
        "outputId": "a0f92d53-201d-4a52-ae21-5934d2b756fb"
      },
      "execution_count": 1,
      "outputs": [
        {
          "output_type": "stream",
          "name": "stdout",
          "text": [
            "Setthawut\n"
          ]
        }
      ]
    },
    {
      "cell_type": "markdown",
      "source": [
        "##surname"
      ],
      "metadata": {
        "id": "N12XYm0lJhCP"
      }
    },
    {
      "cell_type": "code",
      "execution_count": 2,
      "metadata": {
        "colab": {
          "base_uri": "https://localhost:8080/"
        },
        "id": "fv90XWv5JaYE",
        "outputId": "ef69d9f1-4015-499d-f4ff-fe3db16f6a2b"
      },
      "outputs": [
        {
          "output_type": "stream",
          "name": "stdout",
          "text": [
            "Naksang\n"
          ]
        }
      ],
      "source": [
        "print(\"Naksang\")"
      ]
    }
  ]
}